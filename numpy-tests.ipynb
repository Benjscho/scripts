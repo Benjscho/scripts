{
 "cells": [
  {
   "cell_type": "code",
   "execution_count": 1,
   "metadata": {},
   "outputs": [],
   "source": [
    "import numpy as np\n"
   ]
  },
  {
   "cell_type": "code",
   "execution_count": 2,
   "metadata": {},
   "outputs": [],
   "source": [
    "def last_nonzero(arr: np.ndarray, axis=0, invalid_val=-1):\n",
    "    mask = arr != False\n",
    "    val = arr.shape[axis] - np.flip(mask, axis=axis).argmax(axis=axis) - 1\n",
    "    return np.where(mask.any(axis=axis), val, invalid_val)"
   ]
  },
  {
   "cell_type": "code",
   "execution_count": 3,
   "metadata": {},
   "outputs": [],
   "source": [
    "def count_false_pre_true(arr: np.ndarray):\n",
    "    mask = np.zeros(arr.shape, dtype='bool')\n",
    "    up_to = last_nonzero(arr, axis=1, invalid_val=0)\n",
    "    for i, m in enumerate(up_to):\n",
    "        mask[i, :m] = True\n",
    "    return (arr[mask] == False).sum()\n"
   ]
  },
  {
   "cell_type": "code",
   "execution_count": 4,
   "metadata": {},
   "outputs": [],
   "source": [
    "def count_false_2(arr: np.ndarray):\n",
    "    return np.max((~arr).cumsum(axis = 0) * arr, axis = 0).sum()"
   ]
  },
  {
   "cell_type": "code",
   "execution_count": 23,
   "metadata": {},
   "outputs": [],
   "source": [
    "x = np.random.choice(a=[False,True], size=(20,10))\n",
    "y = np.random.choice(a=[False,True], size=(3,4))"
   ]
  },
  {
   "cell_type": "code",
   "execution_count": 6,
   "metadata": {},
   "outputs": [
    {
     "name": "stdout",
     "output_type": "stream",
     "text": [
      "59.3 µs ± 8.4 µs per loop (mean ± std. dev. of 7 runs, 10000 loops each)\n"
     ]
    }
   ],
   "source": [
    "%timeit count_false_pre_true(x)"
   ]
  },
  {
   "cell_type": "code",
   "execution_count": 7,
   "metadata": {},
   "outputs": [
    {
     "name": "stdout",
     "output_type": "stream",
     "text": [
      "21.5 µs ± 1.3 µs per loop (mean ± std. dev. of 7 runs, 10000 loops each)\n"
     ]
    }
   ],
   "source": [
    "%timeit count_false_2(x)\n"
   ]
  },
  {
   "cell_type": "code",
   "execution_count": 8,
   "metadata": {},
   "outputs": [
    {
     "name": "stdout",
     "output_type": "stream",
     "text": [
      "83\n",
      "72\n"
     ]
    }
   ],
   "source": [
    "print(count_false_2(x))\n",
    "print(count_false_pre_true(x))"
   ]
  },
  {
   "cell_type": "code",
   "execution_count": 9,
   "metadata": {},
   "outputs": [
    {
     "name": "stdout",
     "output_type": "stream",
     "text": [
      "[[False  True  True False]\n",
      " [False  True False  True]\n",
      " [False False  True  True]]\n",
      "[[False False  True  True]\n",
      " [False  True  True False]\n",
      " [False  True False  True]]\n"
     ]
    }
   ],
   "source": [
    "print(y)\n",
    "print(np.roll(y, 1, axis=0))"
   ]
  },
  {
   "cell_type": "code",
   "execution_count": 10,
   "metadata": {},
   "outputs": [],
   "source": [
    "def get_wells(arr):\n",
    "    temp = np.ones((arr.shape[0] + 1, arr.shape[1]+2), dtype='bool')\n",
    "    temp[:1] = False\n",
    "    temp[1:,1:-1] = arr\n",
    "    return (np.roll(temp, 1, axis=1) & np.roll(temp, -1, axis=1) & ~temp & ~np.roll(temp, -1, axis=0)).sum()"
   ]
  },
  {
   "cell_type": "code",
   "execution_count": 11,
   "metadata": {},
   "outputs": [
    {
     "name": "stdout",
     "output_type": "stream",
     "text": [
      "[[False  True  True False]\n",
      " [False  True False  True]\n",
      " [False False  True  True]]\n"
     ]
    },
    {
     "data": {
      "text/plain": [
       "2"
      ]
     },
     "execution_count": 11,
     "metadata": {},
     "output_type": "execute_result"
    }
   ],
   "source": [
    "print(y)\n",
    "get_wells(y)"
   ]
  },
  {
   "cell_type": "code",
   "execution_count": 12,
   "metadata": {},
   "outputs": [
    {
     "data": {
      "text/plain": [
       "17"
      ]
     },
     "execution_count": 12,
     "metadata": {},
     "output_type": "execute_result"
    }
   ],
   "source": [
    "get_wells(x)"
   ]
  },
  {
   "cell_type": "code",
   "execution_count": 13,
   "metadata": {},
   "outputs": [
    {
     "name": "stdout",
     "output_type": "stream",
     "text": [
      "75.6 µs ± 9.7 µs per loop (mean ± std. dev. of 7 runs, 10000 loops each)\n"
     ]
    }
   ],
   "source": [
    "%timeit get_wells(x)\n"
   ]
  },
  {
   "cell_type": "code",
   "execution_count": 14,
   "metadata": {},
   "outputs": [
    {
     "name": "stdout",
     "output_type": "stream",
     "text": [
      "(1, 1)\n",
      "[[0.e+000 5.e-324 5.e-324 0.e+000]\n",
      " [0.e+000 5.e+000 0.e+000 5.e-324]\n",
      " [0.e+000 0.e+000 5.e-324 5.e-324]]\n"
     ]
    }
   ],
   "source": [
    "a = np.empty((3, 4), dtype='double')\n",
    "a[1,1] = 5\n",
    "print(np.unravel_index(np.argmax(a, axis=None), a.shape))\n",
    "\n",
    "print(a)"
   ]
  },
  {
   "cell_type": "code",
   "execution_count": 15,
   "metadata": {},
   "outputs": [
    {
     "name": "stdout",
     "output_type": "stream",
     "text": [
      "17 0\n"
     ]
    }
   ],
   "source": [
    "l = [get_wells]\n",
    "for i, f in enumerate(l):\n",
    "    print(f(x), i)"
   ]
  },
  {
   "cell_type": "code",
   "execution_count": 16,
   "metadata": {},
   "outputs": [
    {
     "name": "stdout",
     "output_type": "stream",
     "text": [
      "[[ True False False False]\n",
      " [False  True False  True]\n",
      " [False False  True  True]]\n"
     ]
    },
    {
     "data": {
      "text/plain": [
       "True"
      ]
     },
     "execution_count": 16,
     "metadata": {},
     "output_type": "execute_result"
    }
   ],
   "source": [
    "y[0] = False\n",
    "y[0,0] = True\n",
    "print(y)\n",
    "np.any(y[0])"
   ]
  },
  {
   "cell_type": "code",
   "execution_count": 17,
   "metadata": {},
   "outputs": [
    {
     "name": "stdout",
     "output_type": "stream",
     "text": [
      "23.1 µs ± 2.03 µs per loop (mean ± std. dev. of 7 runs, 10000 loops each)\n",
      "21.3 µs ± 595 ns per loop (mean ± std. dev. of 7 runs, 10000 loops each)\n"
     ]
    }
   ],
   "source": [
    "%timeit count_false_2(x)\n",
    "%timeit count_false_2(x.T)"
   ]
  },
  {
   "cell_type": "code",
   "execution_count": 41,
   "metadata": {},
   "outputs": [],
   "source": [
    "def highest_block(arr: np.ndarray, axis=0, invalid_val=0):\n",
    "    \"\"\"\n",
    "    Find the highest block in an array. Adapted from attribution code \n",
    "    Attribution: https://stackoverflow.com/a/47269413/14354978\n",
    "    \"\"\"\n",
    "    mask = arr != False\n",
    "    val = arr.shape[axis] - np.flip(mask, axis=axis).argmax(axis=axis) - 1\n",
    "    return np.where(mask.any(axis=axis), val, invalid_val)"
   ]
  },
  {
   "cell_type": "code",
   "execution_count": 40,
   "metadata": {},
   "outputs": [],
   "source": [
    "def lowest_block(arr: np.ndarray, axis=0, invalid_val=-1):\n",
    "    \"\"\"\n",
    "    Find the lowest block in an array. Used to find piece intersection.\n",
    "    Adapted from attribution code \n",
    "    Attribution: https://stackoverflow.com/a/47269413/14354978\n",
    "    \"\"\"\n",
    "    mask = arr != False \n",
    "    return np.where(mask.any(axis=axis), mask.argmax(axis=axis), invalid_val)"
   ]
  },
  {
   "cell_type": "code",
   "execution_count": 43,
   "metadata": {},
   "outputs": [
    {
     "name": "stdout",
     "output_type": "stream",
     "text": [
      "[[False False  True False  True  True False False False  True]\n",
      " [False False False False False False False  True False False]\n",
      " [False False  True  True  True False  True  True  True  True]\n",
      " [False False False  True False  True  True False  True False]\n",
      " [False False False  True False  True False False  True False]\n",
      " [False False  True  True False  True  True False False  True]\n",
      " [False False False  True False  True False  True False False]\n",
      " [False False False False  True False False  True False False]\n",
      " [False False  True  True  True False False  True False False]\n",
      " [False False False  True  True False  True  True False False]\n",
      " [False False False  True False False False  True False  True]\n",
      " [False False False False  True False False  True False  True]\n",
      " [False False  True  True  True False False  True False  True]\n",
      " [False False  True  True False False  True  True  True  True]\n",
      " [False False False False False False False False  True False]\n",
      " [False False False False  True  True  True False  True  True]\n",
      " [False False  True  True False  True False  True  True  True]\n",
      " [False False False False False  True  True False False False]\n",
      " [False False False  True  True False False  True  True  True]\n",
      " [False False  True  True  True  True False False  True  True]]\n",
      "[[ True False False False]\n",
      " [ True False False False]\n",
      " [False  True False False]]\n"
     ]
    },
    {
     "data": {
      "text/plain": [
       "array([ 0, -2])"
      ]
     },
     "execution_count": 43,
     "metadata": {},
     "output_type": "execute_result"
    }
   ],
   "source": [
    "print(x)\n",
    "x[:,0:2] = False\n",
    "print(y)\n",
    "x_c = highest_block(x[:,0:2])\n",
    "y_c = lowest_block(y[:,0:2])\n",
    "(x_c - y_c)"
   ]
  }
 ],
 "metadata": {
  "kernelspec": {
   "display_name": "Python 3",
   "language": "python",
   "name": "python3"
  },
  "language_info": {
   "codemirror_mode": {
    "name": "ipython",
    "version": 3
   },
   "file_extension": ".py",
   "mimetype": "text/x-python",
   "name": "python",
   "nbconvert_exporter": "python",
   "pygments_lexer": "ipython3",
   "version": "3.9.5"
  }
 },
 "nbformat": 4,
 "nbformat_minor": 4
}
